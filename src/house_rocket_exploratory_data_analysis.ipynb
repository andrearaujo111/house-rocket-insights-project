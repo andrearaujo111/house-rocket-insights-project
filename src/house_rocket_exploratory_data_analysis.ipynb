{
 "cells": [
  {
   "cell_type": "markdown",
   "id": "cd758e03",
   "metadata": {
    "heading_collapsed": true
   },
   "source": [
    "# 0. IMPORTS & AUXILIARY COMMANDS"
   ]
  },
  {
   "cell_type": "markdown",
   "id": "d9ebec19",
   "metadata": {
    "hidden": true
   },
   "source": [
    "**Libraries and packages**"
   ]
  },
  {
   "cell_type": "code",
   "execution_count": 1,
   "id": "a3408b2d",
   "metadata": {
    "ExecuteTime": {
     "end_time": "2022-05-12T01:33:57.874694Z",
     "start_time": "2022-05-12T01:33:55.351536Z"
    },
    "hidden": true
   },
   "outputs": [],
   "source": [
    "import pandas as pd\n",
    "import seaborn as sns\n",
    "import matplotlib.pyplot as plt\n",
    "import matplotlib.ticker as ticker"
   ]
  },
  {
   "cell_type": "markdown",
   "id": "a007acbc",
   "metadata": {
    "hidden": true
   },
   "source": [
    "**Auxiliary Commands**"
   ]
  },
  {
   "cell_type": "code",
   "execution_count": 2,
   "id": "6fd799fa",
   "metadata": {
    "ExecuteTime": {
     "end_time": "2022-05-12T01:33:57.890646Z",
     "start_time": "2022-05-12T01:33:57.877624Z"
    },
    "hidden": true
   },
   "outputs": [],
   "source": [
    "# Sets thousands and decimals format\n",
    "pd.options.display.float_format = '{:,.2f}'.format\n",
    "\n",
    "# Set major size to figures on seaborn\n",
    "sns.set(rc={'figure.figsize':(11.7,8.27)})"
   ]
  },
  {
   "cell_type": "markdown",
   "id": "87facff9",
   "metadata": {
    "heading_collapsed": true
   },
   "source": [
    "# 1. FUNCTIONS"
   ]
  },
  {
   "cell_type": "markdown",
   "id": "44c2b7b7",
   "metadata": {
    "hidden": true
   },
   "source": [
    "**Data loading functions**"
   ]
  },
  {
   "cell_type": "code",
   "execution_count": 3,
   "id": "c376febe",
   "metadata": {
    "ExecuteTime": {
     "end_time": "2022-05-12T01:33:57.906621Z",
     "start_time": "2022-05-12T01:33:57.892649Z"
    },
    "hidden": true
   },
   "outputs": [],
   "source": [
    "def get_data(path):\n",
    "    '''\n",
    "    Return a Pandas DataFrame object of given the path csv file.\n",
    "\n",
    "    Parameters:\n",
    "        path: Path of file within the directories\n",
    "    '''\n",
    "    data = pd.read_csv(path)\n",
    "    \n",
    "    return data"
   ]
  },
  {
   "cell_type": "markdown",
   "id": "d855eb48",
   "metadata": {
    "hidden": true
   },
   "source": [
    "**Data transforming functions**"
   ]
  },
  {
   "cell_type": "code",
   "execution_count": 4,
   "id": "0a009b1f",
   "metadata": {
    "ExecuteTime": {
     "end_time": "2022-05-12T01:33:57.922620Z",
     "start_time": "2022-05-12T01:33:57.909657Z"
    },
    "hidden": true
   },
   "outputs": [],
   "source": [
    "def transform_data(data):\n",
    "    # Selecting the indexes of non duplicates\n",
    "    indexes = data['id'].drop_duplicates().index\n",
    "\n",
    "    # Creating a new dataframe with distinct property id's\n",
    "    data = data.iloc[indexes, :].reset_index(drop=True)\n",
    "    \n",
    "    # Converting Data Types\n",
    "\n",
    "    # Converting data do datetime \n",
    "    data['date'] = pd.to_datetime(data['date'], format='%Y-%m-%d')\n",
    "\n",
    "    # Converting bathrooms to interger bacause it doesn't make sense having 1.5 bathrooms. \n",
    "    # If there's any float, it will be converted to the closest interger\n",
    "    data['bathrooms'] = round(data['bathrooms'], 0).astype('int64')\n",
    "\n",
    "    # The same goes to floors\n",
    "    data['floors'] = round(data['floors'], 0).astype('int64')\n",
    "\n",
    "    # Changing waterfront variable input from 0/1 to 'No'/'Yes'\n",
    "    data['waterfront'] = data['waterfront'].apply(lambda x: 'no' if x == 0 else 'yes')\n",
    "    \n",
    "    return data"
   ]
  },
  {
   "cell_type": "markdown",
   "id": "ca473bcd",
   "metadata": {
    "hidden": true
   },
   "source": [
    "**Data visualization functions**"
   ]
  },
  {
   "cell_type": "code",
   "execution_count": 5,
   "id": "fdbadcce",
   "metadata": {
    "ExecuteTime": {
     "end_time": "2022-05-12T01:33:57.938695Z",
     "start_time": "2022-05-12T01:33:57.923621Z"
    },
    "hidden": true
   },
   "outputs": [],
   "source": [
    "def plot_boxplot(data, title=None):\n",
    "    \n",
    "    plot = sns.boxplot(data=data, palette='flare')\n",
    "    plot.yaxis.set_major_formatter(ticker.StrMethodFormatter('{x: ,.0f}'))\n",
    "    plt.title(title, fontsize=18)\n",
    "    plt.show()\n",
    "\n",
    "    return None"
   ]
  },
  {
   "cell_type": "markdown",
   "id": "58e682a1",
   "metadata": {
    "heading_collapsed": true
   },
   "source": [
    "# 2. LOADING DATA"
   ]
  },
  {
   "cell_type": "code",
   "execution_count": 6,
   "id": "9ad5fd03",
   "metadata": {
    "ExecuteTime": {
     "end_time": "2022-05-12T01:33:58.018694Z",
     "start_time": "2022-05-12T01:33:57.941634Z"
    },
    "hidden": true
   },
   "outputs": [
    {
     "data": {
      "text/html": [
       "<div>\n",
       "<style scoped>\n",
       "    .dataframe tbody tr th:only-of-type {\n",
       "        vertical-align: middle;\n",
       "    }\n",
       "\n",
       "    .dataframe tbody tr th {\n",
       "        vertical-align: top;\n",
       "    }\n",
       "\n",
       "    .dataframe thead th {\n",
       "        text-align: right;\n",
       "    }\n",
       "</style>\n",
       "<table border=\"1\" class=\"dataframe\">\n",
       "  <thead>\n",
       "    <tr style=\"text-align: right;\">\n",
       "      <th></th>\n",
       "      <th>id</th>\n",
       "      <th>date</th>\n",
       "      <th>price</th>\n",
       "      <th>bedrooms</th>\n",
       "      <th>bathrooms</th>\n",
       "      <th>sqft_living</th>\n",
       "      <th>sqft_lot</th>\n",
       "      <th>floors</th>\n",
       "      <th>waterfront</th>\n",
       "      <th>view</th>\n",
       "      <th>...</th>\n",
       "      <th>grade</th>\n",
       "      <th>sqft_above</th>\n",
       "      <th>sqft_basement</th>\n",
       "      <th>yr_built</th>\n",
       "      <th>yr_renovated</th>\n",
       "      <th>zipcode</th>\n",
       "      <th>lat</th>\n",
       "      <th>long</th>\n",
       "      <th>sqft_living15</th>\n",
       "      <th>sqft_lot15</th>\n",
       "    </tr>\n",
       "  </thead>\n",
       "  <tbody>\n",
       "    <tr>\n",
       "      <th>0</th>\n",
       "      <td>7129300520</td>\n",
       "      <td>20141013T000000</td>\n",
       "      <td>221,900.00</td>\n",
       "      <td>3</td>\n",
       "      <td>1.00</td>\n",
       "      <td>1180</td>\n",
       "      <td>5650</td>\n",
       "      <td>1.00</td>\n",
       "      <td>0</td>\n",
       "      <td>0</td>\n",
       "      <td>...</td>\n",
       "      <td>7</td>\n",
       "      <td>1180</td>\n",
       "      <td>0</td>\n",
       "      <td>1955</td>\n",
       "      <td>0</td>\n",
       "      <td>98178</td>\n",
       "      <td>47.51</td>\n",
       "      <td>-122.26</td>\n",
       "      <td>1340</td>\n",
       "      <td>5650</td>\n",
       "    </tr>\n",
       "    <tr>\n",
       "      <th>1</th>\n",
       "      <td>6414100192</td>\n",
       "      <td>20141209T000000</td>\n",
       "      <td>538,000.00</td>\n",
       "      <td>3</td>\n",
       "      <td>2.25</td>\n",
       "      <td>2570</td>\n",
       "      <td>7242</td>\n",
       "      <td>2.00</td>\n",
       "      <td>0</td>\n",
       "      <td>0</td>\n",
       "      <td>...</td>\n",
       "      <td>7</td>\n",
       "      <td>2170</td>\n",
       "      <td>400</td>\n",
       "      <td>1951</td>\n",
       "      <td>1991</td>\n",
       "      <td>98125</td>\n",
       "      <td>47.72</td>\n",
       "      <td>-122.32</td>\n",
       "      <td>1690</td>\n",
       "      <td>7639</td>\n",
       "    </tr>\n",
       "    <tr>\n",
       "      <th>2</th>\n",
       "      <td>5631500400</td>\n",
       "      <td>20150225T000000</td>\n",
       "      <td>180,000.00</td>\n",
       "      <td>2</td>\n",
       "      <td>1.00</td>\n",
       "      <td>770</td>\n",
       "      <td>10000</td>\n",
       "      <td>1.00</td>\n",
       "      <td>0</td>\n",
       "      <td>0</td>\n",
       "      <td>...</td>\n",
       "      <td>6</td>\n",
       "      <td>770</td>\n",
       "      <td>0</td>\n",
       "      <td>1933</td>\n",
       "      <td>0</td>\n",
       "      <td>98028</td>\n",
       "      <td>47.74</td>\n",
       "      <td>-122.23</td>\n",
       "      <td>2720</td>\n",
       "      <td>8062</td>\n",
       "    </tr>\n",
       "    <tr>\n",
       "      <th>3</th>\n",
       "      <td>2487200875</td>\n",
       "      <td>20141209T000000</td>\n",
       "      <td>604,000.00</td>\n",
       "      <td>4</td>\n",
       "      <td>3.00</td>\n",
       "      <td>1960</td>\n",
       "      <td>5000</td>\n",
       "      <td>1.00</td>\n",
       "      <td>0</td>\n",
       "      <td>0</td>\n",
       "      <td>...</td>\n",
       "      <td>7</td>\n",
       "      <td>1050</td>\n",
       "      <td>910</td>\n",
       "      <td>1965</td>\n",
       "      <td>0</td>\n",
       "      <td>98136</td>\n",
       "      <td>47.52</td>\n",
       "      <td>-122.39</td>\n",
       "      <td>1360</td>\n",
       "      <td>5000</td>\n",
       "    </tr>\n",
       "    <tr>\n",
       "      <th>4</th>\n",
       "      <td>1954400510</td>\n",
       "      <td>20150218T000000</td>\n",
       "      <td>510,000.00</td>\n",
       "      <td>3</td>\n",
       "      <td>2.00</td>\n",
       "      <td>1680</td>\n",
       "      <td>8080</td>\n",
       "      <td>1.00</td>\n",
       "      <td>0</td>\n",
       "      <td>0</td>\n",
       "      <td>...</td>\n",
       "      <td>8</td>\n",
       "      <td>1680</td>\n",
       "      <td>0</td>\n",
       "      <td>1987</td>\n",
       "      <td>0</td>\n",
       "      <td>98074</td>\n",
       "      <td>47.62</td>\n",
       "      <td>-122.05</td>\n",
       "      <td>1800</td>\n",
       "      <td>7503</td>\n",
       "    </tr>\n",
       "  </tbody>\n",
       "</table>\n",
       "<p>5 rows × 21 columns</p>\n",
       "</div>"
      ],
      "text/plain": [
       "           id             date      price  bedrooms  bathrooms  sqft_living  \\\n",
       "0  7129300520  20141013T000000 221,900.00         3       1.00         1180   \n",
       "1  6414100192  20141209T000000 538,000.00         3       2.25         2570   \n",
       "2  5631500400  20150225T000000 180,000.00         2       1.00          770   \n",
       "3  2487200875  20141209T000000 604,000.00         4       3.00         1960   \n",
       "4  1954400510  20150218T000000 510,000.00         3       2.00         1680   \n",
       "\n",
       "   sqft_lot  floors  waterfront  view  ...  grade  sqft_above  sqft_basement  \\\n",
       "0      5650    1.00           0     0  ...      7        1180              0   \n",
       "1      7242    2.00           0     0  ...      7        2170            400   \n",
       "2     10000    1.00           0     0  ...      6         770              0   \n",
       "3      5000    1.00           0     0  ...      7        1050            910   \n",
       "4      8080    1.00           0     0  ...      8        1680              0   \n",
       "\n",
       "   yr_built  yr_renovated  zipcode   lat    long  sqft_living15  sqft_lot15  \n",
       "0      1955             0    98178 47.51 -122.26           1340        5650  \n",
       "1      1951          1991    98125 47.72 -122.32           1690        7639  \n",
       "2      1933             0    98028 47.74 -122.23           2720        8062  \n",
       "3      1965             0    98136 47.52 -122.39           1360        5000  \n",
       "4      1987             0    98074 47.62 -122.05           1800        7503  \n",
       "\n",
       "[5 rows x 21 columns]"
      ]
     },
     "execution_count": 6,
     "metadata": {},
     "output_type": "execute_result"
    }
   ],
   "source": [
    "# Creating variable that will receive the file path\n",
    "path = r'C:\\Users\\andre\\repos\\projects\\insights-project-00\\data\\kc_house_data.csv'\n",
    "\n",
    "df_raw = pd.read_csv(path)\n",
    "\n",
    "df_raw.head()"
   ]
  },
  {
   "cell_type": "code",
   "execution_count": 7,
   "id": "3a375094",
   "metadata": {
    "ExecuteTime": {
     "end_time": "2022-05-12T01:33:58.034620Z",
     "start_time": "2022-05-12T01:33:58.020619Z"
    },
    "hidden": true
   },
   "outputs": [
    {
     "data": {
      "text/plain": [
       "id                 int64\n",
       "date              object\n",
       "price            float64\n",
       "bedrooms           int64\n",
       "bathrooms        float64\n",
       "sqft_living        int64\n",
       "sqft_lot           int64\n",
       "floors           float64\n",
       "waterfront         int64\n",
       "view               int64\n",
       "condition          int64\n",
       "grade              int64\n",
       "sqft_above         int64\n",
       "sqft_basement      int64\n",
       "yr_built           int64\n",
       "yr_renovated       int64\n",
       "zipcode            int64\n",
       "lat              float64\n",
       "long             float64\n",
       "sqft_living15      int64\n",
       "sqft_lot15         int64\n",
       "dtype: object"
      ]
     },
     "execution_count": 7,
     "metadata": {},
     "output_type": "execute_result"
    }
   ],
   "source": [
    "# Shows data types\n",
    "df_raw.dtypes"
   ]
  },
  {
   "cell_type": "code",
   "execution_count": 8,
   "id": "1a08dd4b",
   "metadata": {
    "ExecuteTime": {
     "end_time": "2022-05-12T01:33:58.050622Z",
     "start_time": "2022-05-12T01:33:58.043621Z"
    },
    "hidden": true
   },
   "outputs": [
    {
     "data": {
      "text/plain": [
       "(21613, 21)"
      ]
     },
     "execution_count": 8,
     "metadata": {},
     "output_type": "execute_result"
    }
   ],
   "source": [
    "# DataFrame Attributes\n",
    "df_raw.shape"
   ]
  },
  {
   "cell_type": "markdown",
   "id": "f6cd31fc",
   "metadata": {
    "ExecuteTime": {
     "end_time": "2022-05-04T22:55:25.119417Z",
     "start_time": "2022-05-04T22:55:25.112445Z"
    },
    "heading_collapsed": true
   },
   "source": [
    "# 3. TRANSFORMING DATA"
   ]
  },
  {
   "cell_type": "markdown",
   "id": "20c8700a",
   "metadata": {
    "hidden": true
   },
   "source": [
    "**Dealing with missing and duplicated data**"
   ]
  },
  {
   "cell_type": "code",
   "execution_count": 9,
   "id": "9603d2e0",
   "metadata": {
    "ExecuteTime": {
     "end_time": "2022-05-12T01:33:58.066622Z",
     "start_time": "2022-05-12T01:33:58.052624Z"
    },
    "hidden": true,
    "scrolled": true
   },
   "outputs": [
    {
     "data": {
      "text/plain": [
       "0"
      ]
     },
     "execution_count": 9,
     "metadata": {},
     "output_type": "execute_result"
    }
   ],
   "source": [
    "# Checking na values\n",
    "df_raw.isna().sum().sum()"
   ]
  },
  {
   "cell_type": "code",
   "execution_count": 10,
   "id": "4b8503ae",
   "metadata": {
    "ExecuteTime": {
     "end_time": "2022-05-12T01:33:58.097620Z",
     "start_time": "2022-05-12T01:33:58.070654Z"
    },
    "hidden": true
   },
   "outputs": [
    {
     "data": {
      "text/plain": [
       "176"
      ]
     },
     "execution_count": 10,
     "metadata": {},
     "output_type": "execute_result"
    }
   ],
   "source": [
    "# How many duplicates?\n",
    "(df_raw['id'].value_counts() > 1).sum()"
   ]
  },
  {
   "cell_type": "markdown",
   "id": "0d6e6482",
   "metadata": {
    "ExecuteTime": {
     "end_time": "2022-05-12T01:33:29.995699Z",
     "start_time": "2022-05-12T01:33:29.980666Z"
    },
    "hidden": true
   },
   "source": [
    "**Applying transformation**"
   ]
  },
  {
   "cell_type": "code",
   "execution_count": 11,
   "id": "5048c233",
   "metadata": {
    "ExecuteTime": {
     "end_time": "2022-05-12T01:33:58.129619Z",
     "start_time": "2022-05-12T01:33:58.100623Z"
    },
    "hidden": true
   },
   "outputs": [],
   "source": [
    "df = transform_data(df_raw)"
   ]
  },
  {
   "cell_type": "code",
   "execution_count": 12,
   "id": "df07142e",
   "metadata": {
    "ExecuteTime": {
     "end_time": "2022-05-12T01:33:58.145620Z",
     "start_time": "2022-05-12T01:33:58.132638Z"
    },
    "hidden": true
   },
   "outputs": [
    {
     "data": {
      "text/plain": [
       "0"
      ]
     },
     "execution_count": 12,
     "metadata": {},
     "output_type": "execute_result"
    }
   ],
   "source": [
    "# Rechecking duplicates\n",
    "(df['id'].value_counts() > 1).sum()"
   ]
  },
  {
   "cell_type": "code",
   "execution_count": 13,
   "id": "8891f190",
   "metadata": {
    "ExecuteTime": {
     "end_time": "2022-05-12T01:33:58.161658Z",
     "start_time": "2022-05-12T01:33:58.147619Z"
    },
    "hidden": true
   },
   "outputs": [
    {
     "data": {
      "text/plain": [
       "id                        int64\n",
       "date             datetime64[ns]\n",
       "price                   float64\n",
       "bedrooms                  int64\n",
       "bathrooms                 int64\n",
       "sqft_living               int64\n",
       "sqft_lot                  int64\n",
       "floors                    int64\n",
       "waterfront               object\n",
       "view                      int64\n",
       "condition                 int64\n",
       "grade                     int64\n",
       "sqft_above                int64\n",
       "sqft_basement             int64\n",
       "yr_built                  int64\n",
       "yr_renovated              int64\n",
       "zipcode                   int64\n",
       "lat                     float64\n",
       "long                    float64\n",
       "sqft_living15             int64\n",
       "sqft_lot15                int64\n",
       "dtype: object"
      ]
     },
     "execution_count": 13,
     "metadata": {},
     "output_type": "execute_result"
    }
   ],
   "source": [
    "df.dtypes"
   ]
  },
  {
   "cell_type": "markdown",
   "id": "34f6a1a8",
   "metadata": {
    "hidden": true
   },
   "source": [
    "**Dealing with outliers**"
   ]
  },
  {
   "cell_type": "code",
   "execution_count": 14,
   "id": "9c645758",
   "metadata": {
    "ExecuteTime": {
     "end_time": "2022-05-12T01:33:58.240649Z",
     "start_time": "2022-05-12T01:33:58.163624Z"
    },
    "hidden": true
   },
   "outputs": [
    {
     "data": {
      "text/html": [
       "<div>\n",
       "<style scoped>\n",
       "    .dataframe tbody tr th:only-of-type {\n",
       "        vertical-align: middle;\n",
       "    }\n",
       "\n",
       "    .dataframe tbody tr th {\n",
       "        vertical-align: top;\n",
       "    }\n",
       "\n",
       "    .dataframe thead th {\n",
       "        text-align: right;\n",
       "    }\n",
       "</style>\n",
       "<table border=\"1\" class=\"dataframe\">\n",
       "  <thead>\n",
       "    <tr style=\"text-align: right;\">\n",
       "      <th></th>\n",
       "      <th>price</th>\n",
       "      <th>bedrooms</th>\n",
       "      <th>bathrooms</th>\n",
       "      <th>sqft_living</th>\n",
       "      <th>sqft_lot</th>\n",
       "      <th>floors</th>\n",
       "      <th>view</th>\n",
       "      <th>condition</th>\n",
       "      <th>grade</th>\n",
       "      <th>sqft_above</th>\n",
       "      <th>sqft_basement</th>\n",
       "      <th>yr_built</th>\n",
       "      <th>yr_renovated</th>\n",
       "      <th>sqft_living15</th>\n",
       "      <th>sqft_lot15</th>\n",
       "    </tr>\n",
       "  </thead>\n",
       "  <tbody>\n",
       "    <tr>\n",
       "      <th>count</th>\n",
       "      <td>21,436.00</td>\n",
       "      <td>21,436.00</td>\n",
       "      <td>21,436.00</td>\n",
       "      <td>21,436.00</td>\n",
       "      <td>21,436.00</td>\n",
       "      <td>21,436.00</td>\n",
       "      <td>21,436.00</td>\n",
       "      <td>21,436.00</td>\n",
       "      <td>21,436.00</td>\n",
       "      <td>21,436.00</td>\n",
       "      <td>21,436.00</td>\n",
       "      <td>21,436.00</td>\n",
       "      <td>21,436.00</td>\n",
       "      <td>21,436.00</td>\n",
       "      <td>21,436.00</td>\n",
       "    </tr>\n",
       "    <tr>\n",
       "      <th>mean</th>\n",
       "      <td>540,529.29</td>\n",
       "      <td>3.37</td>\n",
       "      <td>2.06</td>\n",
       "      <td>2,082.70</td>\n",
       "      <td>15,135.64</td>\n",
       "      <td>1.54</td>\n",
       "      <td>0.24</td>\n",
       "      <td>3.41</td>\n",
       "      <td>7.66</td>\n",
       "      <td>1,790.96</td>\n",
       "      <td>291.74</td>\n",
       "      <td>1,971.10</td>\n",
       "      <td>84.73</td>\n",
       "      <td>1,988.31</td>\n",
       "      <td>12,785.96</td>\n",
       "    </tr>\n",
       "    <tr>\n",
       "      <th>std</th>\n",
       "      <td>367,689.30</td>\n",
       "      <td>0.93</td>\n",
       "      <td>0.76</td>\n",
       "      <td>919.15</td>\n",
       "      <td>41,538.62</td>\n",
       "      <td>0.55</td>\n",
       "      <td>0.77</td>\n",
       "      <td>0.65</td>\n",
       "      <td>1.17</td>\n",
       "      <td>829.03</td>\n",
       "      <td>442.78</td>\n",
       "      <td>29.39</td>\n",
       "      <td>402.43</td>\n",
       "      <td>685.70</td>\n",
       "      <td>27,375.47</td>\n",
       "    </tr>\n",
       "    <tr>\n",
       "      <th>min</th>\n",
       "      <td>75,000.00</td>\n",
       "      <td>0.00</td>\n",
       "      <td>0.00</td>\n",
       "      <td>290.00</td>\n",
       "      <td>520.00</td>\n",
       "      <td>1.00</td>\n",
       "      <td>0.00</td>\n",
       "      <td>1.00</td>\n",
       "      <td>1.00</td>\n",
       "      <td>290.00</td>\n",
       "      <td>0.00</td>\n",
       "      <td>1,900.00</td>\n",
       "      <td>0.00</td>\n",
       "      <td>399.00</td>\n",
       "      <td>651.00</td>\n",
       "    </tr>\n",
       "    <tr>\n",
       "      <th>25%</th>\n",
       "      <td>322,150.00</td>\n",
       "      <td>3.00</td>\n",
       "      <td>2.00</td>\n",
       "      <td>1,430.00</td>\n",
       "      <td>5,040.00</td>\n",
       "      <td>1.00</td>\n",
       "      <td>0.00</td>\n",
       "      <td>3.00</td>\n",
       "      <td>7.00</td>\n",
       "      <td>1,200.00</td>\n",
       "      <td>0.00</td>\n",
       "      <td>1,952.00</td>\n",
       "      <td>0.00</td>\n",
       "      <td>1,490.00</td>\n",
       "      <td>5,100.00</td>\n",
       "    </tr>\n",
       "    <tr>\n",
       "      <th>50%</th>\n",
       "      <td>450,000.00</td>\n",
       "      <td>3.00</td>\n",
       "      <td>2.00</td>\n",
       "      <td>1,920.00</td>\n",
       "      <td>7,614.00</td>\n",
       "      <td>2.00</td>\n",
       "      <td>0.00</td>\n",
       "      <td>3.00</td>\n",
       "      <td>7.00</td>\n",
       "      <td>1,560.00</td>\n",
       "      <td>0.00</td>\n",
       "      <td>1,975.00</td>\n",
       "      <td>0.00</td>\n",
       "      <td>1,840.00</td>\n",
       "      <td>7,620.00</td>\n",
       "    </tr>\n",
       "    <tr>\n",
       "      <th>75%</th>\n",
       "      <td>645,000.00</td>\n",
       "      <td>4.00</td>\n",
       "      <td>2.00</td>\n",
       "      <td>2,550.00</td>\n",
       "      <td>10,696.25</td>\n",
       "      <td>2.00</td>\n",
       "      <td>0.00</td>\n",
       "      <td>4.00</td>\n",
       "      <td>8.00</td>\n",
       "      <td>2,220.00</td>\n",
       "      <td>560.00</td>\n",
       "      <td>1,997.00</td>\n",
       "      <td>0.00</td>\n",
       "      <td>2,370.00</td>\n",
       "      <td>10,087.25</td>\n",
       "    </tr>\n",
       "    <tr>\n",
       "      <th>max</th>\n",
       "      <td>7,700,000.00</td>\n",
       "      <td>33.00</td>\n",
       "      <td>8.00</td>\n",
       "      <td>13,540.00</td>\n",
       "      <td>1,651,359.00</td>\n",
       "      <td>4.00</td>\n",
       "      <td>4.00</td>\n",
       "      <td>5.00</td>\n",
       "      <td>13.00</td>\n",
       "      <td>9,410.00</td>\n",
       "      <td>4,820.00</td>\n",
       "      <td>2,015.00</td>\n",
       "      <td>2,015.00</td>\n",
       "      <td>6,210.00</td>\n",
       "      <td>871,200.00</td>\n",
       "    </tr>\n",
       "  </tbody>\n",
       "</table>\n",
       "</div>"
      ],
      "text/plain": [
       "             price  bedrooms  bathrooms  sqft_living     sqft_lot    floors  \\\n",
       "count    21,436.00 21,436.00  21,436.00    21,436.00    21,436.00 21,436.00   \n",
       "mean    540,529.29      3.37       2.06     2,082.70    15,135.64      1.54   \n",
       "std     367,689.30      0.93       0.76       919.15    41,538.62      0.55   \n",
       "min      75,000.00      0.00       0.00       290.00       520.00      1.00   \n",
       "25%     322,150.00      3.00       2.00     1,430.00     5,040.00      1.00   \n",
       "50%     450,000.00      3.00       2.00     1,920.00     7,614.00      2.00   \n",
       "75%     645,000.00      4.00       2.00     2,550.00    10,696.25      2.00   \n",
       "max   7,700,000.00     33.00       8.00    13,540.00 1,651,359.00      4.00   \n",
       "\n",
       "           view  condition     grade  sqft_above  sqft_basement  yr_built  \\\n",
       "count 21,436.00  21,436.00 21,436.00   21,436.00      21,436.00 21,436.00   \n",
       "mean       0.24       3.41      7.66    1,790.96         291.74  1,971.10   \n",
       "std        0.77       0.65      1.17      829.03         442.78     29.39   \n",
       "min        0.00       1.00      1.00      290.00           0.00  1,900.00   \n",
       "25%        0.00       3.00      7.00    1,200.00           0.00  1,952.00   \n",
       "50%        0.00       3.00      7.00    1,560.00           0.00  1,975.00   \n",
       "75%        0.00       4.00      8.00    2,220.00         560.00  1,997.00   \n",
       "max        4.00       5.00     13.00    9,410.00       4,820.00  2,015.00   \n",
       "\n",
       "       yr_renovated  sqft_living15  sqft_lot15  \n",
       "count     21,436.00      21,436.00   21,436.00  \n",
       "mean          84.73       1,988.31   12,785.96  \n",
       "std          402.43         685.70   27,375.47  \n",
       "min            0.00         399.00      651.00  \n",
       "25%            0.00       1,490.00    5,100.00  \n",
       "50%            0.00       1,840.00    7,620.00  \n",
       "75%            0.00       2,370.00   10,087.25  \n",
       "max        2,015.00       6,210.00  871,200.00  "
      ]
     },
     "execution_count": 14,
     "metadata": {},
     "output_type": "execute_result"
    }
   ],
   "source": [
    "# Checking numeric variables metrics\n",
    "df_numeric = df.select_dtypes(include=['float64', 'int64'])\n",
    "\n",
    "# Removing fields that doesn't make sense for the analysis\n",
    "df_numeric = df_numeric.drop(labels=['id', 'zipcode', 'lat', 'long'], axis=1)\n",
    "\n",
    "# Checking descriptive metrics\n",
    "df_numeric.describe()"
   ]
  },
  {
   "cell_type": "markdown",
   "id": "f32f72fb",
   "metadata": {
    "hidden": true
   },
   "source": [
    "Will remove outliers only to variables that we intend to validade hyphothesis\n",
    "- Price\n",
    "- Bedrooms\n",
    "- Bathrooms"
   ]
  },
  {
   "cell_type": "code",
   "execution_count": 15,
   "id": "cf96a265",
   "metadata": {
    "ExecuteTime": {
     "end_time": "2022-05-12T01:33:58.431686Z",
     "start_time": "2022-05-12T01:33:58.242635Z"
    },
    "hidden": true
   },
   "outputs": [
    {
     "data": {
      "image/png": "[encoded data removed]",
      "text/plain": [
       "<Figure size 842.4x595.44 with 1 Axes>"
      ]
     },
     "metadata": {},
     "output_type": "display_data"
    }
   ],
   "source": [
    "# Checking price outliers\n",
    "plot_boxplot(df_numeric['price'], title='Boxplot of properties prices')"
   ]
  },
  {
   "cell_type": "markdown",
   "id": "8055f9e4",
   "metadata": {
    "hidden": true
   },
   "source": [
    "Will not remove any price value because it is natural that high pattern properties have high values, causing discrepancy with our central tendency"
   ]
  },
  {
   "cell_type": "code",
   "execution_count": 16,
   "id": "1452872f",
   "metadata": {
    "ExecuteTime": {
     "end_time": "2022-05-12T01:33:58.558651Z",
     "start_time": "2022-05-12T01:33:58.432621Z"
    },
    "hidden": true
   },
   "outputs": [
    {
     "data": {
      "image/png": "[encoded data removed]",
      "text/plain": [
       "<Figure size 842.4x595.44 with 1 Axes>"
      ]
     },
     "metadata": {},
     "output_type": "display_data"
    }
   ],
   "source": [
    "# Checking bedrooms outliers\n",
    "plot_boxplot(df_numeric['bedrooms'], title='Boxplot of properties number of bedrooms')"
   ]
  },
  {
   "cell_type": "markdown",
   "id": "049691e1",
   "metadata": {
    "hidden": true
   },
   "source": [
    "There's a single point that is very discrepant compared with others. Surely this one will be removed"
   ]
  },
  {
   "cell_type": "code",
   "execution_count": 17,
   "id": "3ab82414",
   "metadata": {
    "ExecuteTime": {
     "end_time": "2022-05-12T01:33:58.715897Z",
     "start_time": "2022-05-12T01:33:58.561620Z"
    },
    "hidden": true
   },
   "outputs": [
    {
     "data": {
      "image/png": "[encoded data removed]",
      "text/plain": [
       "<Figure size 842.4x595.44 with 1 Axes>"
      ]
     },
     "metadata": {},
     "output_type": "display_data"
    }
   ],
   "source": [
    "# Checking bedrooms outliers\n",
    "plot_boxplot(df_numeric['bathrooms'], title='Boxplot of properties number of bathrooms')"
   ]
  },
  {
   "cell_type": "markdown",
   "id": "dad3cf07",
   "metadata": {
    "ExecuteTime": {
     "end_time": "2022-05-10T13:00:56.875662Z",
     "start_time": "2022-05-10T13:00:56.853667Z"
    },
    "hidden": true
   },
   "source": [
    "Will consider that high pattern property may also have a good amount of bathrooms, so will not remove any value"
   ]
  },
  {
   "cell_type": "markdown",
   "id": "aa52c678",
   "metadata": {
    "hidden": true
   },
   "source": [
    "**Removing Outliers**"
   ]
  },
  {
   "cell_type": "code",
   "execution_count": 18,
   "id": "039ea5a6",
   "metadata": {
    "ExecuteTime": {
     "end_time": "2022-05-12T01:33:58.747794Z",
     "start_time": "2022-05-12T01:33:58.717753Z"
    },
    "hidden": true
   },
   "outputs": [
    {
     "data": {
      "text/plain": [
       "8688     11\n",
       "13195    10\n",
       "19085    10\n",
       "15025    10\n",
       "6031      9\n",
       "Name: bedrooms, dtype: int64"
      ]
     },
     "execution_count": 18,
     "metadata": {},
     "output_type": "execute_result"
    }
   ],
   "source": [
    "# Remove any row with number of bedrooms higher than 30\n",
    "df = df.drop(index=df.loc[df['bedrooms'] > 30, :].index)\n",
    "\n",
    "# Check the maximum amount of bedrooms\n",
    "df['bedrooms'].sort_values(ascending=False)[0:5]"
   ]
  },
  {
   "cell_type": "markdown",
   "id": "527e5773",
   "metadata": {},
   "source": [
    "# 4. VALIDATING HYPHOTHESIS"
   ]
  },
  {
   "cell_type": "markdown",
   "id": "1ceb1bb9",
   "metadata": {
    "heading_collapsed": true
   },
   "source": [
    "## **H1:** Properties that have water front feature are 20% more expensive, on average, than those without a view."
   ]
  },
  {
   "cell_type": "code",
   "execution_count": 19,
   "id": "ee38b5b9",
   "metadata": {
    "ExecuteTime": {
     "end_time": "2022-05-12T01:33:58.921897Z",
     "start_time": "2022-05-12T01:33:58.750755Z"
    },
    "hidden": true
   },
   "outputs": [
    {
     "name": "stdout",
     "output_type": "stream",
     "text": [
      "The mean price of properties that have waterfront is 212.42% higher if compared with the ones that don't have\n"
     ]
    },
    {
     "data": {
      "image/png": "[encoded data removed]",
      "text/plain": [
       "<Figure size 842.4x595.44 with 1 Axes>"
      ]
     },
     "metadata": {},
     "output_type": "display_data"
    }
   ],
   "source": [
    "# Creating dataframe to group data by category\n",
    "h1 = df[['price', 'waterfront']].groupby('waterfront').mean().reset_index()\n",
    "\n",
    "# Calculate mean difference between the properties with/without waterfront\n",
    "diff = (h1['price'][1] - h1['price'][0]) \n",
    "\n",
    "# Calculate in pct the variation\n",
    "variation = round((diff / h1['price'][0]) * 100, 2)\n",
    "\n",
    "# Shows the response\n",
    "print(f\"The mean price of properties that have waterfront is {variation}% higher if compared with the ones that don't have\")\n",
    "\n",
    "## Plotting chart ###\n",
    "\n",
    "# Plots barchart to express the variation visually\n",
    "ax = sns.barplot(x=h1['waterfront'], y=h1['price'], palette='flare')\n",
    "\n",
    "# Set format of y axis scale\n",
    "ax.yaxis.set_major_formatter(ticker.StrMethodFormatter('{x: ,.0f}'))\n",
    "\n",
    "# Rename y axis label\n",
    "plt.ylabel('mean price')\n",
    "\n",
    "plt.show()"
   ]
  },
  {
   "cell_type": "markdown",
   "id": "fbf3b2a0",
   "metadata": {
    "ExecuteTime": {
     "end_time": "2022-05-10T13:39:15.325773Z",
     "start_time": "2022-05-10T13:39:15.311754Z"
    }
   },
   "source": [
    "## H2: Properties with a construction date less than 1980 are 55% cheaper on average."
   ]
  },
  {
   "cell_type": "code",
   "execution_count": 20,
   "id": "55302629",
   "metadata": {
    "ExecuteTime": {
     "end_time": "2022-05-12T01:33:59.065827Z",
     "start_time": "2022-05-12T01:33:58.924755Z"
    }
   },
   "outputs": [
    {
     "name": "stdout",
     "output_type": "stream",
     "text": [
      "Properties built before 1980 have a mean price 14.01% lower if compared with the ones built after\n"
     ]
    },
    {
     "data": {
      "image/png": "[encoded data removed]",
      "text/plain": [
       "<Figure size 842.4x595.44 with 1 Axes>"
      ]
     },
     "metadata": {},
     "output_type": "display_data"
    }
   ],
   "source": [
    "# Create a copy of main dataframe with the information needed to answer the hypothesis\n",
    "h2_base = df[['price', 'yr_built']].copy()\n",
    "\n",
    "# Create a flag to categorize if the property was built before/after 1980\n",
    "h2_base['1980_flag'] = h2_base['yr_built'].apply(lambda x: 'before_1980' if x < 1980 else\n",
    "                                                           'after_1980' if x >= 1980 else 'NA')\n",
    "\n",
    "# Group data and take mean price by category\n",
    "h2 = h2_base[['price', '1980_flag']].groupby('1980_flag').mean().reset_index()\n",
    "\n",
    "# Calculates the difference between categories\n",
    "diff = (h2['price'][0] - h2['price'][1]) \n",
    "\n",
    "# Calculates the variation\n",
    "variation = round((diff / h2['price'][0]) * 100, 2)\n",
    "\n",
    "# Shows the response\n",
    "print(f\"Properties built before 1980 have a mean price {variation}% lower if compared with the ones built after\")\n",
    "\n",
    "## Plotting chart ###\n",
    "\n",
    "# Plots bar chart to express the variation visually\n",
    "ax = sns.barplot(x=h2['1980_flag'], y=h2['price'], palette='flare')\n",
    "\n",
    "# Set format of y axis scale\n",
    "ax.yaxis.set_major_formatter(ticker.StrMethodFormatter('{x: ,.0f}'))\n",
    "\n",
    "# Rename y axis label\n",
    "plt.ylabel('mean price')\n",
    "\n",
    "plt.show()"
   ]
  },
  {
   "cell_type": "markdown",
   "id": "fa965ff9",
   "metadata": {
    "heading_collapsed": true
   },
   "source": [
    "## H3: Properties without basements have 40% more lot area than those without basements."
   ]
  },
  {
   "cell_type": "code",
   "execution_count": 21,
   "id": "9162ac04",
   "metadata": {
    "ExecuteTime": {
     "end_time": "2022-05-12T01:33:59.209916Z",
     "start_time": "2022-05-12T01:33:59.067754Z"
    },
    "hidden": true
   },
   "outputs": [
    {
     "name": "stdout",
     "output_type": "stream",
     "text": [
      "Properties without basement have a lot area 22.78% larger if compared with the ones with\n"
     ]
    },
    {
     "data": {
      "image/png": "[encoded data removed]",
      "text/plain": [
       "<Figure size 842.4x595.44 with 1 Axes>"
      ]
     },
     "metadata": {},
     "output_type": "display_data"
    }
   ],
   "source": [
    "# Create a copy of main dataframe with the information needed to answer the hypothesis\n",
    "h3_base = df[['sqft_basement', 'sqft_lot']].copy()\n",
    "\n",
    "# Create a flag to categorize ifi the property have/don't have basement\n",
    "h3_base['basement_flag'] = h3_base['sqft_basement'].apply(lambda x: 'no_basement' if x == 0 else\n",
    "                                    'basement' if x >= 1 else 'NA')\n",
    "\n",
    "# Group data and take mean area by category\n",
    "h3 = h3_base[['sqft_lot', 'basement_flag']].groupby('basement_flag').mean().reset_index()\n",
    "\n",
    "# Calculates the difference between categories\n",
    "diff = (h3['sqft_lot'][1] - h3['sqft_lot'][0]) \n",
    "\n",
    "# Calculates the variation\n",
    "variation = round((diff / h3['sqft_lot'][0]) * 100, 2)\n",
    "\n",
    "# Shows the response\n",
    "print(f\"Properties without basement have a lot area {variation}% larger if compared with the ones with\")\n",
    "\n",
    "## Plotting chart ###\n",
    "\n",
    "# Plots barchart to express the variation visually\n",
    "ax = sns.barplot(x=h3['basement_flag'], y=h3['sqft_lot'], palette='flare')\n",
    "\n",
    "# Set format of y axis scale\n",
    "ax.yaxis.set_major_formatter(ticker.StrMethodFormatter('{x: ,.0f}'))\n",
    "\n",
    "# Rename y axis label\n",
    "plt.ylabel('mean lot size')\n",
    "\n",
    "plt.show()"
   ]
  },
  {
   "cell_type": "markdown",
   "id": "8d77c903",
   "metadata": {
    "heading_collapsed": true
   },
   "source": [
    "## H4: YoY (Year over Year) property price growth is 10%."
   ]
  },
  {
   "cell_type": "code",
   "execution_count": 22,
   "id": "307789fa",
   "metadata": {
    "ExecuteTime": {
     "end_time": "2022-05-12T01:33:59.353789Z",
     "start_time": "2022-05-12T01:33:59.212755Z"
    },
    "hidden": true
   },
   "outputs": [
    {
     "name": "stdout",
     "output_type": "stream",
     "text": [
      "We have properties available for 2014 and 2015 years, and the YoY price growth was of 0.7%\n"
     ]
    },
    {
     "data": {
      "image/png": "[encoded data removed]",
      "text/plain": [
       "<Figure size 842.4x595.44 with 1 Axes>"
      ]
     },
     "metadata": {},
     "output_type": "display_data"
    }
   ],
   "source": [
    "# Create a copy of main dataframe with the information needed to answer the hypothesis\n",
    "h4_base = df[['date', 'price']].copy()\n",
    "\n",
    "# Extract year of when the property got available  for purchase\n",
    "h4_base['yr_available'] = pd.DatetimeIndex(h4_base['date']).year\n",
    "\n",
    "# Group data and take mean price by year \n",
    "h4 = h4_base[['price', 'yr_available']].groupby('yr_available').mean().reset_index()\n",
    "\n",
    "# Calculates the difference between categories\n",
    "diff = (h4['price'][1] - h4['price'][0]) \n",
    "\n",
    "# Calculates the variation\n",
    "variation = round((diff / h4['price'][0]) * 100, 2)\n",
    "\n",
    "# Shows the response\n",
    "print(f\"We have properties available for 2014 and 2015 years, and the YoY price growth was of {variation}%\")\n",
    "\n",
    "## Plotting chart ###\n",
    "\n",
    "# Plots line chart to express the variation visually\n",
    "ax = sns.barplot(x=h4['yr_available'], y=h4['price'], palette='flare')\n",
    "\n",
    "# Set format of y axis scale\n",
    "ax.yaxis.set_major_formatter(ticker.StrMethodFormatter('{x: ,.0f}'))\n",
    "\n",
    "# Set range in y axis\n",
    "ax.set_ylim([500000, 545000])\n",
    "\n",
    "# Rename y axis label\n",
    "plt.ylabel('mean price')\n",
    "\n",
    "plt.show()"
   ]
  },
  {
   "cell_type": "code",
   "execution_count": 23,
   "id": "b64a1c3d",
   "metadata": {
    "ExecuteTime": {
     "end_time": "2022-05-12T01:33:59.369776Z",
     "start_time": "2022-05-12T01:33:59.356757Z"
    },
    "hidden": true
   },
   "outputs": [
    {
     "data": {
      "text/html": [
       "<div>\n",
       "<style scoped>\n",
       "    .dataframe tbody tr th:only-of-type {\n",
       "        vertical-align: middle;\n",
       "    }\n",
       "\n",
       "    .dataframe tbody tr th {\n",
       "        vertical-align: top;\n",
       "    }\n",
       "\n",
       "    .dataframe thead th {\n",
       "        text-align: right;\n",
       "    }\n",
       "</style>\n",
       "<table border=\"1\" class=\"dataframe\">\n",
       "  <thead>\n",
       "    <tr style=\"text-align: right;\">\n",
       "      <th></th>\n",
       "      <th>yr_available</th>\n",
       "      <th>price</th>\n",
       "    </tr>\n",
       "  </thead>\n",
       "  <tbody>\n",
       "    <tr>\n",
       "      <th>0</th>\n",
       "      <td>2014</td>\n",
       "      <td>539,314.59</td>\n",
       "    </tr>\n",
       "    <tr>\n",
       "      <th>1</th>\n",
       "      <td>2015</td>\n",
       "      <td>543,108.29</td>\n",
       "    </tr>\n",
       "  </tbody>\n",
       "</table>\n",
       "</div>"
      ],
      "text/plain": [
       "   yr_available      price\n",
       "0          2014 539,314.59\n",
       "1          2015 543,108.29"
      ]
     },
     "execution_count": 23,
     "metadata": {},
     "output_type": "execute_result"
    }
   ],
   "source": [
    "h4"
   ]
  },
  {
   "cell_type": "markdown",
   "id": "d49a6926",
   "metadata": {
    "heading_collapsed": true
   },
   "source": [
    "## H5: Properties with 3 bathrooms or more have a MoM (Month over Month) growth of 15% in price."
   ]
  },
  {
   "cell_type": "code",
   "execution_count": 24,
   "id": "1f3c416e",
   "metadata": {
    "ExecuteTime": {
     "end_time": "2022-05-12T01:33:59.721755Z",
     "start_time": "2022-05-12T01:33:59.372756Z"
    },
    "hidden": true
   },
   "outputs": [
    {
     "data": {
      "image/png": "[encoded data removed]",
      "text/plain": [
       "<Figure size 842.4x595.44 with 1 Axes>"
      ]
     },
     "metadata": {},
     "output_type": "display_data"
    }
   ],
   "source": [
    "# Create a copy of main dataframe with the information needed to answer the hypothesis\n",
    "h5_base = df.loc[df['bathrooms'] >= 3, ['price', 'bathrooms', 'date']].copy().reset_index()\n",
    "\n",
    "# Extract year and month\n",
    "h5_base['month'] = h5_base['date'].apply(lambda x: x.strftime('%m-%Y'))\n",
    "\n",
    "# Converts it to date format\n",
    "h5_base['month'] = pd.to_datetime(h5_base['month'], format=('%m-%Y'))\n",
    "\n",
    "# Group data and take mean price by month\n",
    "h5 = h5_base[['price', 'month']].groupby('month').mean().reset_index().sort_values(by='month')\n",
    "\n",
    "# Creates an empty column that will receive the variation over months in percentage\n",
    "h5['variation_pct'] = 'NA'\n",
    "\n",
    "# Calculates the variation\n",
    "for i in range(len(h5)):\n",
    "    \n",
    "    if i == 0:\n",
    "        h5.loc[i, 'variation_pct'] = 0\n",
    "        \n",
    "    else:\n",
    "        h5.loc[i, 'variation_pct'] = ((h5.loc[i, 'price'] - h5.loc[i-1, 'price']) / h5.loc[i, 'price']) * 100\n",
    "        \n",
    "## Plot line chart ##\n",
    "\n",
    "ax = sns.lineplot(data=h5, x='month', y='variation_pct')\n",
    "\n",
    "# Settting title\n",
    "plt.title('Mean price MoM of available properties with 3 or more bathrooms \\n for sale on portfolio', fontsize=18)\n",
    "\n",
    "plt.show()"
   ]
  },
  {
   "cell_type": "markdown",
   "id": "0ea7199c",
   "metadata": {
    "heading_collapsed": true
   },
   "source": [
    "## H6: Properties with 1 bedroom are 30% cheaper on average compared to properties with 2 or more."
   ]
  },
  {
   "cell_type": "code",
   "execution_count": 25,
   "id": "31cb5ce4",
   "metadata": {
    "ExecuteTime": {
     "end_time": "2022-05-12T01:33:59.864921Z",
     "start_time": "2022-05-12T01:33:59.723754Z"
    },
    "hidden": true
   },
   "outputs": [
    {
     "name": "stdout",
     "output_type": "stream",
     "text": [
      "Properties with one bedrooms are 70.81% cheaper if compared with the ones with two or more\n"
     ]
    },
    {
     "data": {
      "image/png": "[encoded data removed]",
      "text/plain": [
       "<Figure size 842.4x595.44 with 1 Axes>"
      ]
     },
     "metadata": {},
     "output_type": "display_data"
    }
   ],
   "source": [
    "# Create a copy of main dataframe with the information needed to answer the hypothesis\n",
    "h6_base = df[['price', 'bedrooms']].copy()\n",
    "\n",
    "# Creates a classification wether the property have one or more bedrooms\n",
    "h6_base['single_bedroom_flag'] = h6_base['bedrooms'].apply(lambda x: 'one_bedroom' if x == 1 else\n",
    "                                                                     'two_or_more'if x > 1 else 'NA')\n",
    "\n",
    "# Dropping NA values\n",
    "h6_base = h6_base.loc[h6_base['single_bedroom_flag'] != 'NA', :].reset_index()\n",
    "\n",
    "# Group data and take mean price by category\n",
    "h6 = h6_base[['price', 'single_bedroom_flag']].groupby('single_bedroom_flag').mean().reset_index()\n",
    "\n",
    "# Calculates the difference between categories\n",
    "diff = (h6['price'][1] - h6['price'][0]) \n",
    "\n",
    "# Calculates the variation\n",
    "variation = round((diff / h6['price'][0]) * 100, 2)\n",
    "\n",
    "# Shows the response\n",
    "print(f\"Properties with one bedrooms are {variation}% cheaper if compared with the ones with two or more\")\n",
    "\n",
    "## Plotting chart ###\n",
    "\n",
    "# Plots line chart to express the variation visually\n",
    "ax = sns.barplot(x=h6['single_bedroom_flag'], y=h6['price'], palette='flare')\n",
    "\n",
    "# Set format of y axis scale\n",
    "ax.yaxis.set_major_formatter(ticker.StrMethodFormatter('{x: ,.0f}'))\n",
    "\n",
    "# Rename y axis label\n",
    "plt.ylabel('mean price')\n",
    "\n",
    "plt.show()"
   ]
  },
  {
   "cell_type": "markdown",
   "id": "82b5c30e",
   "metadata": {
    "heading_collapsed": true
   },
   "source": [
    "## H7: Total properties available for purchase grew 15% YoY."
   ]
  },
  {
   "cell_type": "code",
   "execution_count": 26,
   "id": "e4fcbd60",
   "metadata": {
    "ExecuteTime": {
     "end_time": "2022-05-12T01:33:59.960786Z",
     "start_time": "2022-05-12T01:33:59.866771Z"
    },
    "hidden": true
   },
   "outputs": [
    {
     "name": "stdout",
     "output_type": "stream",
     "text": [
      "The amount of properties available for purchase droped 113.51% YoY according with properties in database\n"
     ]
    },
    {
     "data": {
      "image/png": "[encoded data removed]",
      "text/plain": [
       "<Figure size 842.4x595.44 with 1 Axes>"
      ]
     },
     "metadata": {},
     "output_type": "display_data"
    }
   ],
   "source": [
    "# Create a copy of main dataframe with the information needed to answer the hypothesis\n",
    "h7_base = df[['date', 'id']].copy()\n",
    "\n",
    "# Extract year of when the property got available \n",
    "h7_base['yr_available'] = pd.DatetimeIndex(h7_base['date']).year\n",
    "\n",
    " # Group data and take count id by year \n",
    "h7 = h7_base[['id', 'yr_available']].groupby('yr_available').count().reset_index()\n",
    "\n",
    "# Calculates the difference between categories\n",
    "diff = (h7['id'][0] - h7['id'][1]) \n",
    "\n",
    "# Calculates the variation\n",
    "variation = round((diff / h7['id'][1]) * 100, 2)\n",
    "\n",
    "# Shows the response\n",
    "print(f\"The amount of properties available for purchase droped {variation}% YoY according with properties in database\")\n",
    "\n",
    "## Plotting chart ###\n",
    "\n",
    "# Plots line chart to express the variation visually\n",
    "ax = plt.pie(x=h7['id'], labels=h7['yr_available'], colors=['tomato', 'crimson'])\n",
    "\n",
    "# # Set format of y axis scale\n",
    "# ax.yaxis.set_major_formatter(ticker.StrMethodFormatter('{x: ,.0f}'))\n",
    "\n",
    "# # Rename y axis label\n",
    "# plt.ylabel('mean price')\n",
    "\n",
    "plt.show()"
   ]
  },
  {
   "cell_type": "code",
   "execution_count": 27,
   "id": "718db379",
   "metadata": {
    "ExecuteTime": {
     "end_time": "2022-05-12T01:33:59.976787Z",
     "start_time": "2022-05-12T01:33:59.962755Z"
    },
    "hidden": true
   },
   "outputs": [
    {
     "data": {
      "text/html": [
       "<div>\n",
       "<style scoped>\n",
       "    .dataframe tbody tr th:only-of-type {\n",
       "        vertical-align: middle;\n",
       "    }\n",
       "\n",
       "    .dataframe tbody tr th {\n",
       "        vertical-align: top;\n",
       "    }\n",
       "\n",
       "    .dataframe thead th {\n",
       "        text-align: right;\n",
       "    }\n",
       "</style>\n",
       "<table border=\"1\" class=\"dataframe\">\n",
       "  <thead>\n",
       "    <tr style=\"text-align: right;\">\n",
       "      <th></th>\n",
       "      <th>yr_available</th>\n",
       "      <th>id</th>\n",
       "    </tr>\n",
       "  </thead>\n",
       "  <tbody>\n",
       "    <tr>\n",
       "      <th>0</th>\n",
       "      <td>2014</td>\n",
       "      <td>14598</td>\n",
       "    </tr>\n",
       "    <tr>\n",
       "      <th>1</th>\n",
       "      <td>2015</td>\n",
       "      <td>6837</td>\n",
       "    </tr>\n",
       "  </tbody>\n",
       "</table>\n",
       "</div>"
      ],
      "text/plain": [
       "   yr_available     id\n",
       "0          2014  14598\n",
       "1          2015   6837"
      ]
     },
     "execution_count": 27,
     "metadata": {},
     "output_type": "execute_result"
    }
   ],
   "source": [
    "h7"
   ]
  },
  {
   "cell_type": "markdown",
   "id": "e05b6303",
   "metadata": {
    "heading_collapsed": true
   },
   "source": [
    "## H8: The standard deviation of the price of properties that have more than 2 bedrooms is 40% lower than the others."
   ]
  },
  {
   "cell_type": "code",
   "execution_count": 28,
   "id": "693ac83e",
   "metadata": {
    "ExecuteTime": {
     "end_time": "2022-05-12T01:34:00.151906Z",
     "start_time": "2022-05-12T01:33:59.985762Z"
    },
    "hidden": true
   },
   "outputs": [
    {
     "name": "stdout",
     "output_type": "stream",
     "text": [
      "The std deviation of properties with more than two bedrooms is 96.01% higher if compared with the ones with two or less\n"
     ]
    },
    {
     "data": {
      "image/png": "[encoded data removed]",
      "text/plain": [
       "<Figure size 842.4x595.44 with 1 Axes>"
      ]
     },
     "metadata": {},
     "output_type": "display_data"
    }
   ],
   "source": [
    "# Create a copy of main dataframe with the information needed to answer the hypothesis\n",
    "h8_base = df.loc[df['bedrooms'] >= 1, ['bedrooms', 'price']].reset_index()\n",
    "\n",
    "# Creates classification of number of bedrooms\n",
    "h8_base['bedrooms_flag'] = h8_base['bedrooms'].apply(lambda x: 'one_or_two' if x <= 2 else\n",
    "                                                               'more_than_two' if x > 2 else 'NA')\n",
    "\n",
    "# Group data and take std deviation of price by category\n",
    "h8 = h8_base[['price', 'bedrooms_flag']].groupby('bedrooms_flag').std().reset_index()\n",
    "\n",
    "# Calculates the difference between categories\n",
    "diff = (h8['price'][0] - h8['price'][1]) \n",
    "\n",
    "# Calculates the variation\n",
    "variation = round((diff / h8['price'][1]) * 100, 2)\n",
    "\n",
    "# Shows the response\n",
    "print(f\"The std deviation of properties with more than two bedrooms is {variation}% higher if compared with the ones with two or less\")\n",
    "## Plotting chart ###\n",
    "\n",
    "# Plots line chart to express the variation visually\n",
    "ax = sns.barplot(x=h8['bedrooms_flag'], y=h8['price'], palette='flare')\n",
    "\n",
    "# Set format of y axis scale\n",
    "ax.yaxis.set_major_formatter(ticker.StrMethodFormatter('{x: ,.0f}'))\n",
    "\n",
    "# Rename y axis label\n",
    "plt.ylabel('price std deviation')\n",
    "\n",
    "plt.show()"
   ]
  },
  {
   "cell_type": "markdown",
   "id": "06d432d9",
   "metadata": {
    "heading_collapsed": true
   },
   "source": [
    "## H9: Properties that have undergone renovation are 50% in better condition compared to properties that have not been renovated"
   ]
  },
  {
   "cell_type": "code",
   "execution_count": 29,
   "id": "4ee406c0",
   "metadata": {
    "ExecuteTime": {
     "end_time": "2022-05-12T01:34:00.198875Z",
     "start_time": "2022-05-12T01:34:00.152753Z"
    },
    "hidden": true
   },
   "outputs": [
    {
     "data": {
      "text/html": [
       "<div>\n",
       "<style scoped>\n",
       "    .dataframe tbody tr th:only-of-type {\n",
       "        vertical-align: middle;\n",
       "    }\n",
       "\n",
       "    .dataframe tbody tr th {\n",
       "        vertical-align: top;\n",
       "    }\n",
       "\n",
       "    .dataframe thead th {\n",
       "        text-align: right;\n",
       "    }\n",
       "</style>\n",
       "<table border=\"1\" class=\"dataframe\">\n",
       "  <thead>\n",
       "    <tr style=\"text-align: right;\">\n",
       "      <th></th>\n",
       "      <th>condition</th>\n",
       "    </tr>\n",
       "    <tr>\n",
       "      <th>renovated</th>\n",
       "      <th></th>\n",
       "    </tr>\n",
       "  </thead>\n",
       "  <tbody>\n",
       "    <tr>\n",
       "      <th>no_renovated</th>\n",
       "      <td>0.35</td>\n",
       "    </tr>\n",
       "    <tr>\n",
       "      <th>renovated</th>\n",
       "      <td>0.19</td>\n",
       "    </tr>\n",
       "  </tbody>\n",
       "</table>\n",
       "</div>"
      ],
      "text/plain": [
       "              condition\n",
       "renovated              \n",
       "no_renovated       0.35\n",
       "renovated          0.19"
      ]
     },
     "execution_count": 29,
     "metadata": {},
     "output_type": "execute_result"
    }
   ],
   "source": [
    "# Create a copy of main dataframe with the information needed to answer the hypothesis\n",
    "h9_base = df[['condition', 'yr_renovated']].copy()\n",
    "\n",
    "# Creates classification for properties that got renovated/didn't get and normalize condition to 1 or 0\n",
    "h9_base['renovated'] = h9_base['yr_renovated'].apply(lambda x: 'renovated' if x > 0 else 'no_renovated')\n",
    "h9_base['condition'] = h9_base['condition'].apply(lambda x: 1 if x == 4 or x == 5 else 0)\n",
    "\n",
    "# Group data and take mean for each category\n",
    "h9_base[['renovated', 'condition']].groupby('renovated').mean()"
   ]
  },
  {
   "cell_type": "markdown",
   "id": "4479a27f",
   "metadata": {
    "heading_collapsed": true
   },
   "source": [
    "## H10: Renovated properties from 1980 onwards are 50% in better condition compared to all other properties (renovated or not)"
   ]
  },
  {
   "cell_type": "code",
   "execution_count": 30,
   "id": "63cc2f63",
   "metadata": {
    "ExecuteTime": {
     "end_time": "2022-05-12T01:34:00.246168Z",
     "start_time": "2022-05-12T01:34:00.201756Z"
    },
    "hidden": true
   },
   "outputs": [
    {
     "data": {
      "text/html": [
       "<div>\n",
       "<style scoped>\n",
       "    .dataframe tbody tr th:only-of-type {\n",
       "        vertical-align: middle;\n",
       "    }\n",
       "\n",
       "    .dataframe tbody tr th {\n",
       "        vertical-align: top;\n",
       "    }\n",
       "\n",
       "    .dataframe thead th {\n",
       "        text-align: right;\n",
       "    }\n",
       "</style>\n",
       "<table border=\"1\" class=\"dataframe\">\n",
       "  <thead>\n",
       "    <tr style=\"text-align: right;\">\n",
       "      <th></th>\n",
       "      <th>condition</th>\n",
       "    </tr>\n",
       "    <tr>\n",
       "      <th>renovated</th>\n",
       "      <th></th>\n",
       "    </tr>\n",
       "  </thead>\n",
       "  <tbody>\n",
       "    <tr>\n",
       "      <th>no_renovated</th>\n",
       "      <td>0.35</td>\n",
       "    </tr>\n",
       "    <tr>\n",
       "      <th>renovated</th>\n",
       "      <td>0.15</td>\n",
       "    </tr>\n",
       "  </tbody>\n",
       "</table>\n",
       "</div>"
      ],
      "text/plain": [
       "              condition\n",
       "renovated              \n",
       "no_renovated       0.35\n",
       "renovated          0.15"
      ]
     },
     "execution_count": 30,
     "metadata": {},
     "output_type": "execute_result"
    }
   ],
   "source": [
    "# Create a copy of main dataframe with the information needed to answer the hypothesis\n",
    "h10_base = df[['condition', 'yr_renovated']].copy()\n",
    "\n",
    "# Creates classification for properties that got renovated/didn't get and normalize condition to 1 or 0\n",
    "h10_base['renovated'] = h10_base['yr_renovated'].apply(lambda x: 'renovated' if x >= 1980 else 'no_renovated')\n",
    "h10_base['condition'] = h10_base['condition'].apply(lambda x: 1 if x == 4 or x == 5 else 0)\n",
    "\n",
    "# Group data and take mean for each category\n",
    "h10_base[['renovated', 'condition']].groupby('renovated').mean()"
   ]
  },
  {
   "cell_type": "markdown",
   "id": "8b064137",
   "metadata": {
    "hidden": true
   },
   "source": [
    "Important to know how many were renoveted according to our parameters"
   ]
  },
  {
   "cell_type": "code",
   "execution_count": 31,
   "id": "6b0f57e5",
   "metadata": {
    "ExecuteTime": {
     "end_time": "2022-05-12T01:34:00.261585Z",
     "start_time": "2022-05-12T01:34:00.248576Z"
    },
    "hidden": true
   },
   "outputs": [
    {
     "data": {
      "text/plain": [
       "no_renovated    20646\n",
       "renovated         789\n",
       "Name: renovated, dtype: int64"
      ]
     },
     "execution_count": 31,
     "metadata": {},
     "output_type": "execute_result"
    }
   ],
   "source": [
    "h10_base['renovated'].value_counts()"
   ]
  },
  {
   "cell_type": "markdown",
   "id": "00b5ef49",
   "metadata": {
    "hidden": true
   },
   "source": [
    "If we include 3 as good condition"
   ]
  },
  {
   "cell_type": "code",
   "execution_count": 32,
   "id": "ba16cd30",
   "metadata": {
    "ExecuteTime": {
     "end_time": "2022-05-12T01:34:00.309614Z",
     "start_time": "2022-05-12T01:34:00.264593Z"
    },
    "hidden": true
   },
   "outputs": [
    {
     "data": {
      "text/html": [
       "<div>\n",
       "<style scoped>\n",
       "    .dataframe tbody tr th:only-of-type {\n",
       "        vertical-align: middle;\n",
       "    }\n",
       "\n",
       "    .dataframe tbody tr th {\n",
       "        vertical-align: top;\n",
       "    }\n",
       "\n",
       "    .dataframe thead th {\n",
       "        text-align: right;\n",
       "    }\n",
       "</style>\n",
       "<table border=\"1\" class=\"dataframe\">\n",
       "  <thead>\n",
       "    <tr style=\"text-align: right;\">\n",
       "      <th></th>\n",
       "      <th>condition</th>\n",
       "    </tr>\n",
       "    <tr>\n",
       "      <th>renovated</th>\n",
       "      <th></th>\n",
       "    </tr>\n",
       "  </thead>\n",
       "  <tbody>\n",
       "    <tr>\n",
       "      <th>no_renovated</th>\n",
       "      <td>0.99</td>\n",
       "    </tr>\n",
       "    <tr>\n",
       "      <th>renovated</th>\n",
       "      <td>1.00</td>\n",
       "    </tr>\n",
       "  </tbody>\n",
       "</table>\n",
       "</div>"
      ],
      "text/plain": [
       "              condition\n",
       "renovated              \n",
       "no_renovated       0.99\n",
       "renovated          1.00"
      ]
     },
     "execution_count": 32,
     "metadata": {},
     "output_type": "execute_result"
    }
   ],
   "source": [
    "# Create a copy of main dataframe with the information needed to answer the hypothesis\n",
    "h10_base = df[['condition', 'yr_renovated']].copy()\n",
    "\n",
    "# Creates classification for properties that got renovated/didn't get and normalize condition to 1 or 0\n",
    "h10_base['renovated'] = h10_base['yr_renovated'].apply(lambda x: 'renovated' if x >= 1980 else 'no_renovated')\n",
    "h10_base['condition'] = h10_base['condition'].apply(lambda x: 1 if x == 3 or x == 4 or x == 5 else 0)\n",
    "\n",
    "# Group data and take mean for each category\n",
    "h10_base[['renovated', 'condition']].groupby('renovated').mean()"
   ]
  },
  {
   "cell_type": "code",
   "execution_count": 33,
   "id": "cb72d76e",
   "metadata": {
    "ExecuteTime": {
     "end_time": "2022-05-12T01:34:00.325585Z",
     "start_time": "2022-05-12T01:34:00.311596Z"
    },
    "hidden": true,
    "scrolled": true
   },
   "outputs": [
    {
     "data": {
      "text/plain": [
       "3   0.65\n",
       "4   0.26\n",
       "5   0.08\n",
       "2   0.01\n",
       "1   0.00\n",
       "Name: condition, dtype: float64"
      ]
     },
     "execution_count": 33,
     "metadata": {},
     "output_type": "execute_result"
    }
   ],
   "source": [
    "df['condition'].value_counts(normalize=True)"
   ]
  },
  {
   "cell_type": "markdown",
   "id": "7114c067",
   "metadata": {
    "heading_collapsed": true
   },
   "source": [
    "# 5.MAIN INSIGHTS"
   ]
  },
  {
   "cell_type": "markdown",
   "id": "7953f68d",
   "metadata": {
    "hidden": true
   },
   "source": [
    "- Properties with a waterfont view are 200% more expensive on average. Getting one of these properties for a low price represents good business\n",
    "\n",
    "- Properties built before 1980 are 14% cheaper on average. There is no big price disparity if you use this cut-off as a comparison\n",
    "\n",
    "- Properties without a basement have 22% more lot area. If we look for properties with larger lot areas, we can look at these without basements\n",
    "\n",
    "- YoY property price grew 0.7%\n",
    "\n",
    "- One-bedroom properties are 70% cheaper compared to properties with 2 or more bedrooms\n",
    "\n",
    "- The amount of properties available for purchase fell 113% YoY (2014 to 2015)\n",
    "\n",
    "- The standard deviation of properties with two or more bedrooms is 96% higher compared to properties with two or fewer\n",
    "\n",
    "- The property having been renovated does not impact their condition. The condition is basically the same comparing these two categories"
   ]
  },
  {
   "cell_type": "markdown",
   "id": "daf88efb",
   "metadata": {
    "hidden": true
   },
   "source": [
    "With the information collected, we will use only the **waterfront** variable to determine which are the best properties to buy, where if we have a property with this characteristic and a competitive price, it will have priority."
   ]
  }
 ],
 "metadata": {
  "kernelspec": {
   "display_name": "geo_env",
   "language": "python",
   "name": "geo_env"
  },
  "language_info": {
   "codemirror_mode": {
    "name": "ipython",
    "version": 3
   },
   "file_extension": ".py",
   "mimetype": "text/x-python",
   "name": "python",
   "nbconvert_exporter": "python",
   "pygments_lexer": "ipython3",
   "version": "3.10.4"
  },
  "varInspector": {
   "cols": {
    "lenName": 16,
    "lenType": 16,
    "lenVar": 40
   },
   "kernels_config": {
    "python": {
     "delete_cmd_postfix": "",
     "delete_cmd_prefix": "del ",
     "library": "var_list.py",
     "varRefreshCmd": "print(var_dic_list())"
    },
    "r": {
     "delete_cmd_postfix": ") ",
     "delete_cmd_prefix": "rm(",
     "library": "var_list.r",
     "varRefreshCmd": "cat(var_dic_list()) "
    }
   },
   "types_to_exclude": [
    "module",
    "function",
    "builtin_function_or_method",
    "instance",
    "_Feature"
   ],
   "window_display": false
  }
 },
 "nbformat": 4,
 "nbformat_minor": 5
}
